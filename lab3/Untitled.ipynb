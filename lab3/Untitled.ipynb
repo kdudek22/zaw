{
 "cells": [
  {
   "cell_type": "code",
   "execution_count": 2,
   "id": "602bca4f-8a90-4198-81c9-511624e69d2e",
   "metadata": {},
   "outputs": [],
   "source": [
    "import cv2\n",
    "import matplotlib.pyplot as plt\n",
    "import numpy as np"
   ]
  },
  {
   "cell_type": "code",
   "execution_count": 2,
   "id": "678f4bcb-a8a3-4bd3-aecc-6a1486ce0410",
   "metadata": {},
   "outputs": [],
   "source": [
    "end = 1000\n",
    "\n",
    "buff = np.zeros((240, 360, end))\n",
    "\n",
    "for i in range(1,end):\n",
    "    file_number = str(i).zfill(6)\n",
    "    image = cv2.imread(f\"./pedestrian/input/in{file_number}.jpg\", cv2.IMREAD_GRAYSCALE)\n",
    "    buff[:,:,i] = image\n",
    "\n",
    "cv2.destroyAllWindows()"
   ]
  },
  {
   "cell_type": "code",
   "execution_count": 3,
   "id": "1ccfcb1a-d5e2-4279-a2e4-9f1faf55f978",
   "metadata": {},
   "outputs": [
    {
     "name": "stdout",
     "output_type": "stream",
     "text": [
      "(240, 360) (240, 360)\n"
     ]
    }
   ],
   "source": [
    "avg_buff = np.average(buff, axis=2)\n",
    "median_buff = np.median(buff, axis=2)\n",
    "print(avg_buff.shape, median_buff.shape)"
   ]
  },
  {
   "cell_type": "code",
   "execution_count": 3,
   "id": "86ee63b0-0302-4d2f-a330-013c375e42ab",
   "metadata": {},
   "outputs": [],
   "source": [
    "def calculate_tp_sum(img, actual):\n",
    "    return np.sum(np.logical_and((img>0), (actual>0)))\n",
    "\n",
    "def calculate_tn_sum(img, actual):\n",
    "    return np.sum(np.logical_and((img==00), (actual==0)))\n",
    "\n",
    "def calculate_fp_sum(img, actual):\n",
    "    return np.sum(np.logical_and((img>0), (actual==0)))\n",
    "\n",
    "def calculate_fn_sum(img, actual):\n",
    "    return np.sum(np.logical_and((img==0), (actual>0)))"
   ]
  },
  {
   "cell_type": "code",
   "execution_count": 5,
   "id": "baa8305c-c6d7-4ea5-ad05-9d369107d8b4",
   "metadata": {},
   "outputs": [
    {
     "name": "stdout",
     "output_type": "stream",
     "text": [
      "0.8223553180356206\n"
     ]
    }
   ],
   "source": [
    "tp = 0\n",
    "tn = 0 \n",
    "fn = 0\n",
    "fp = 0\n",
    "\n",
    "\n",
    "for i in range(400, 600):\n",
    "    file_number = str(i).zfill(6)\n",
    "    image = cv2.imread(f\"./pedestrian/input/in{file_number}.jpg\", cv2.IMREAD_GRAYSCALE)\n",
    "    diff = np.abs(image - avg_buff)\n",
    "    \n",
    "    diff = diff.astype(\"uint8\")\n",
    "\n",
    "    diff = cv2.medianBlur(diff, 5)\n",
    "\n",
    "    thr, bin_img = cv2.threshold(diff, 15, 255, cv2.THRESH_BINARY)\n",
    "\n",
    "    res_img = bin_img\n",
    "\n",
    "    actual = cv2.imread(f\"./pedestrian/groundtruth/gt{file_number}.png\", cv2.IMREAD_GRAYSCALE)\n",
    "\n",
    "    tp += calculate_tp_sum(res_img, actual)\n",
    "    tn += calculate_tn_sum(res_img, actual)\n",
    "    fp += calculate_fp_sum(res_img, actual)\n",
    "    fn += calculate_fn_sum(res_img, actual)\n",
    "    \n",
    "    \n",
    "    cv2.imshow(\"asd\", bin_img)\n",
    "    \n",
    "    cv2.waitKey(1)\n",
    "\n",
    "p = tp/(tp+fp)\n",
    "r = tp/(tp+fn)\n",
    "f1 = (2*p*r)/(p+r)\n",
    "print(f1)\n",
    "\n",
    "cv2.destroyAllWindows()"
   ]
  },
  {
   "cell_type": "code",
   "execution_count": 8,
   "id": "75997139-ca7a-4894-812d-96b240ae3e4f",
   "metadata": {},
   "outputs": [
    {
     "name": "stdout",
     "output_type": "stream",
     "text": [
      "0.8053674924076473\n"
     ]
    }
   ],
   "source": [
    "b_last = cv2.imread(f\"./pedestrian/input/in000001.jpg\", cv2.IMREAD_GRAYSCALE)\n",
    "\n",
    "tp = 0\n",
    "tn = 0 \n",
    "fn = 0\n",
    "fp = 0\n",
    "\n",
    "a = 0.01\n",
    "\n",
    "for i in range(300,600):\n",
    "    file_number = str(i).zfill(6)\n",
    "    image = cv2.imread(f\"./pedestrian/input/in{file_number}.jpg\", cv2.IMREAD_GRAYSCALE)\n",
    "\n",
    "    b_now = a*image + (1-a)*b_last\n",
    "    b_last = b_now\n",
    "\n",
    "    b_now = b_now.astype(\"int16\")\n",
    "    image = image.astype(\"int16\")\n",
    "\n",
    "    diff = np.abs(image - b_now)\n",
    "\n",
    "    diff = diff.astype(\"uint8\")\n",
    "\n",
    "    diff = cv2.medianBlur(diff, 5)\n",
    "\n",
    "    thr, bin_img = cv2.threshold(diff, 15, 255, cv2.THRESH_BINARY)\n",
    "\n",
    "    res_img = bin_img\n",
    "\n",
    "    actual = cv2.imread(f\"./pedestrian/groundtruth/gt{file_number}.png\", cv2.IMREAD_GRAYSCALE)\n",
    "\n",
    "    tp += calculate_tp_sum(res_img, actual)\n",
    "    tn += calculate_tn_sum(res_img, actual)\n",
    "    fp += calculate_fp_sum(res_img, actual)\n",
    "    fn += calculate_fn_sum(res_img, actual)\n",
    "    \n",
    "    cv2.imshow(\"asd\", res_img)\n",
    "    cv2.waitKey(1)\n",
    "\n",
    "\n",
    "p = tp/(tp+fp)\n",
    "r = tp/(tp+fn)\n",
    "f1 = (2*p*r)/(p+r)\n",
    "print(f1)\n",
    "\n",
    "cv2.destroyAllWindows()"
   ]
  },
  {
   "cell_type": "code",
   "execution_count": 10,
   "id": "bdb3caff-ca86-4d96-beaf-2d610b31893e",
   "metadata": {},
   "outputs": [
    {
     "name": "stdout",
     "output_type": "stream",
     "text": [
      "0.8124074348747032\n"
     ]
    }
   ],
   "source": [
    "b_last = cv2.imread(f\"./pedestrian/input/in000001.jpg\", cv2.IMREAD_GRAYSCALE)\n",
    "\n",
    "tp = 0\n",
    "tn = 0 \n",
    "fn = 0\n",
    "fp = 0\n",
    "\n",
    "a = 0.01\n",
    "\n",
    "for i in range(300,600):\n",
    "    file_number = str(i).zfill(6)\n",
    "    image = cv2.imread(f\"./pedestrian/input/in{file_number}.jpg\", cv2.IMREAD_GRAYSCALE)\n",
    "\n",
    "    X,Y = image.shape\n",
    "\n",
    "    b_now = b_last.copy()\n",
    "    \n",
    "    for y in range(Y):\n",
    "        for x in range(X):\n",
    "            if b_last[x,y]!=0:\n",
    "                if b_last[x,y] < image [x,y]:\n",
    "                    b_now[x,y] = b_last[x,y] + 1\n",
    "                elif b_last[x,y] > image[x,y]:\n",
    "                    b_now[x,y] = b_last[x,y] - 1\n",
    "\n",
    "    b_last = b_now\n",
    "\n",
    "    b_now = b_now.astype(\"int16\")\n",
    "    image = image.astype(\"int16\")\n",
    "\n",
    "    diff = np.abs(image - b_now)\n",
    "\n",
    "    diff = diff.astype(\"uint8\")\n",
    "\n",
    "    diff = cv2.medianBlur(diff, 5)\n",
    "\n",
    "    thr, bin_img = cv2.threshold(diff, 15, 255, cv2.THRESH_BINARY)\n",
    "\n",
    "    res_img = bin_img\n",
    "\n",
    "    actual = cv2.imread(f\"./pedestrian/groundtruth/gt{file_number}.png\", cv2.IMREAD_GRAYSCALE)\n",
    "\n",
    "    tp += calculate_tp_sum(res_img, actual)\n",
    "    tn += calculate_tn_sum(res_img, actual)\n",
    "    fp += calculate_fp_sum(res_img, actual)\n",
    "    fn += calculate_fn_sum(res_img, actual)\n",
    "    \n",
    "    cv2.imshow(\"asd\", res_img)\n",
    "    cv2.waitKey(1)\n",
    "\n",
    "\n",
    "p = tp/(tp+fp)\n",
    "r = tp/(tp+fn)\n",
    "f1 = (2*p*r)/(p+r)\n",
    "print(f1)\n",
    "\n",
    "cv2.destroyAllWindows()"
   ]
  },
  {
   "cell_type": "code",
   "execution_count": 20,
   "id": "d7c74130-532a-48b1-962b-5fb4704666eb",
   "metadata": {},
   "outputs": [
    {
     "name": "stdout",
     "output_type": "stream",
     "text": [
      "0.4676358861091636\n"
     ]
    }
   ],
   "source": [
    "b_last = cv2.imread(f\"./pedestrian/input/in000001.jpg\", cv2.IMREAD_GRAYSCALE)\n",
    "\n",
    "tp = 0\n",
    "tn = 0 \n",
    "fn = 0\n",
    "fp = 0\n",
    "\n",
    "a = 0.01\n",
    "\n",
    "fgbg = cv2.createBackgroundSubtractorMOG2(detectShadows=False, varThreshold=15)\n",
    "\n",
    "for i in range(300,600):\n",
    "    file_number = str(i).zfill(6)\n",
    "    image = cv2.imread(f\"./pedestrian/input/in{file_number}.jpg\", cv2.IMREAD_GRAYSCALE)\n",
    "\n",
    "    fgmask = fgbg.apply(image, learningRate=0.1)\n",
    "\n",
    "    actual = cv2.imread(f\"./pedestrian/groundtruth/gt{file_number}.png\", cv2.IMREAD_GRAYSCALE)\n",
    "\n",
    "    tp += calculate_tp_sum(fgmask, actual)\n",
    "    tn += calculate_tn_sum(fgmask, actual)\n",
    "    fp += calculate_fp_sum(fgmask, actual)\n",
    "    fn += calculate_fn_sum(fgmask, actual)\n",
    "    \n",
    "    cv2.imshow(\"asd\", fgmask)\n",
    "    cv2.waitKey(1)\n",
    "\n",
    "\n",
    "\n",
    "p = tp/(tp+fp)\n",
    "r = tp/(tp+fn)\n",
    "f1 = (2*p*r)/(p+r)\n",
    "print(f1)\n",
    "\n",
    "cv2.destroyAllWindows()"
   ]
  },
  {
   "cell_type": "code",
   "execution_count": 22,
   "id": "0394539c-3150-4aed-a56b-6b3d52b2fef3",
   "metadata": {},
   "outputs": [
    {
     "name": "stdout",
     "output_type": "stream",
     "text": [
      "0.5486426100100246\n"
     ]
    }
   ],
   "source": [
    "b_last = cv2.imread(f\"./pedestrian/input/in000001.jpg\", cv2.IMREAD_GRAYSCALE)\n",
    "\n",
    "tp = 0\n",
    "tn = 0 \n",
    "fn = 0\n",
    "fp = 0\n",
    "\n",
    "a = 0.01\n",
    "\n",
    "fgbg = cv2.createBackgroundSubtractorKNN()\n",
    "\n",
    "for i in range(300,600):\n",
    "    file_number = str(i).zfill(6)\n",
    "    image = cv2.imread(f\"./pedestrian/input/in{file_number}.jpg\", cv2.IMREAD_GRAYSCALE)\n",
    "\n",
    "    fgmask = fgbg.apply(image, learningRate=0.1)\n",
    "\n",
    "    actual = cv2.imread(f\"./pedestrian/groundtruth/gt{file_number}.png\", cv2.IMREAD_GRAYSCALE)\n",
    "\n",
    "    tp += calculate_tp_sum(fgmask, actual)\n",
    "    tn += calculate_tn_sum(fgmask, actual)\n",
    "    fp += calculate_fp_sum(fgmask, actual)\n",
    "    fn += calculate_fn_sum(fgmask, actual)\n",
    "    \n",
    "    cv2.imshow(\"asd\", fgmask)\n",
    "    cv2.waitKey(1)\n",
    "\n",
    "\n",
    "\n",
    "p = tp/(tp+fp)\n",
    "r = tp/(tp+fn)\n",
    "f1 = (2*p*r)/(p+r)\n",
    "print(f1)\n",
    "\n",
    "cv2.destroyAllWindows()"
   ]
  },
  {
   "cell_type": "code",
   "execution_count": null,
   "id": "77e48302-eb91-41c8-bc05-6cfa4307ed29",
   "metadata": {},
   "outputs": [],
   "source": []
  }
 ],
 "metadata": {
  "kernelspec": {
   "display_name": "Python 3 (ipykernel)",
   "language": "python",
   "name": "python3"
  },
  "language_info": {
   "codemirror_mode": {
    "name": "ipython",
    "version": 3
   },
   "file_extension": ".py",
   "mimetype": "text/x-python",
   "name": "python",
   "nbconvert_exporter": "python",
   "pygments_lexer": "ipython3",
   "version": "3.8.0"
  }
 },
 "nbformat": 4,
 "nbformat_minor": 5
}
