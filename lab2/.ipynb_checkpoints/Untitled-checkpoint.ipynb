{
 "cells": [
  {
   "cell_type": "code",
   "execution_count": 1,
   "id": "41c58765",
   "metadata": {},
   "outputs": [],
   "source": [
    "import cv2\n",
    "import matplotlib.pyplot as plt\n",
    "import numpy as np"
   ]
  },
  {
   "cell_type": "code",
   "execution_count": null,
   "id": "edb75a3a",
   "metadata": {},
   "outputs": [],
   "source": [
    "last = cv2.imread(f\"./pedestrian/input/in000299.jpg\", cv2.IMREAD_GRAYSCALE)\n",
    "for i in range(300, 1100):\n",
    "    file_number = str(i).zfill(6)\n",
    "    image = cv2.imread(f\"./pedestrian/input/in{file_number}.jpg\", cv2.IMREAD_GRAYSCALE)\n",
    "    \n",
    "    image = image.astype(\"int\")\n",
    "    last = first.astype(\"int\")\n",
    "    \n",
    "    diff = np.abs(image - last)\n",
    "    diff = diff.astype(\"uint8\")\n",
    "\n",
    "    thr, bin_img = cv2.threshold(diff, 10, 255, cv2.THRESH_BINARY)\n",
    "    \n",
    "    res_img = cv2.medianBlur(bin_img, 11)\n",
    "    \n",
    "    res_img = cv2.erode(bin_img, np.ones((3,3)))\n",
    "    \n",
    "    res_img = cv2.dilate(res_img, np.ones((3,3)))\n",
    "    \n",
    "    cv2.imshow(\"image\", res_img)\n",
    "    first = image\n",
    "    cv2.waitKey(1)\n",
    "\n",
    "cv2.destroyAllWindows()"
   ]
  },
  {
   "cell_type": "code",
   "execution_count": null,
   "id": "5c7c6d1c",
   "metadata": {},
   "outputs": [],
   "source": []
  },
  {
   "cell_type": "code",
   "execution_count": null,
   "id": "0c441715",
   "metadata": {},
   "outputs": [],
   "source": []
  }
 ],
 "metadata": {
  "kernelspec": {
   "display_name": "Python 3 (ipykernel)",
   "language": "python",
   "name": "python3"
  },
  "language_info": {
   "codemirror_mode": {
    "name": "ipython",
    "version": 3
   },
   "file_extension": ".py",
   "mimetype": "text/x-python",
   "name": "python",
   "nbconvert_exporter": "python",
   "pygments_lexer": "ipython3",
   "version": "3.11.5"
  }
 },
 "nbformat": 4,
 "nbformat_minor": 5
}
