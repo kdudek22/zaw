{
 "cells": [
  {
   "cell_type": "code",
   "execution_count": 5,
   "id": "41c58765",
   "metadata": {},
   "outputs": [],
   "source": [
    "import cv2\n",
    "import matplotlib.pyplot as plt\n",
    "import numpy as np"
   ]
  },
  {
   "cell_type": "code",
   "execution_count": 43,
   "id": "edb75a3a",
   "metadata": {},
   "outputs": [],
   "source": [
    "ref = open(\"./pedestrian/temporalROI.txt\").read().split(\" \")\n",
    "start, end = int(ref[0]), int(ref[1])\n",
    "\n",
    "tp = 0\n",
    "tn = 0 \n",
    "fn = 0\n",
    "fp = 0\n",
    "\n",
    "last = cv2.imread(f\"./pedestrian/input/in000299.jpg\", cv2.IMREAD_GRAYSCALE)\n",
    "for i in range(start, end):\n",
    "    file_number = str(i).zfill(6)\n",
    "    image = cv2.imread(f\"./pedestrian/input/in{file_number}.jpg\", cv2.IMREAD_GRAYSCALE)\n",
    "    \n",
    "    image = image.astype(\"int\")\n",
    "    last = last.astype(\"int\")\n",
    "    \n",
    "    diff = np.abs(image - last)\n",
    "    diff = diff.astype(\"uint8\")\n",
    "    \n",
    "    diff = cv2.medianBlur(diff, 5)\n",
    "\n",
    "    thr, bin_img = cv2.threshold(diff, 15, 255, cv2.THRESH_BINARY)\n",
    "    \n",
    "    res_img = bin_img\n",
    "    \n",
    "    res_img = cv2.medianBlur(res_img, 5)\n",
    "    \n",
    "    res_img = cv2.dilate(res_img, np.ones((3,3)), iterations=3)\n",
    "    \n",
    "    retval, labels, stats, centroids = cv2.connectedComponentsWithStats (res_img)\n",
    "\n",
    "    \n",
    "    \n",
    "    res_copy = labels\n",
    "    \n",
    "    if(stats.shape[0]>1):\n",
    "        tab = stats[1:,4]\n",
    "        pi = np.argmax(tab)\n",
    "        pi = pi + 1\n",
    "        \n",
    "        cv2.rectangle(res_copy,(stats[pi,0], stats[pi,1]), (stats[pi,0]+stats[pi,2], stats[pi,1]+stats[pi,3]),(255,0,0),2)\n",
    "        cv2.putText(res_copy, f\"{stats[pi,4]}\", (stats[pi,0], stats[pi,1]), cv2.FONT_HERSHEY_SIMPLEX, 0.5, (255,0,0))\n",
    "        \n",
    "        cv2.putText(res_copy, f\"{pi}\", (int(centroids[pi, 0]), int(centroids[pi,1])), cv2.FONT_HERSHEY_SIMPLEX, 0.5, (255,0,0))\n",
    "    \n",
    "    actual = cv2.imread(f\"./pedestrian/groundtruth/gt{file_number}.png\", cv2.IMREAD_GRAYSCALE)\n",
    "    \n",
    "    true_positive_sum = np.sum(np.logical_and((res_img>0), (actual>0)))\n",
    "    \n",
    "    true_negative_sum = np.sum(np.logical_and((res_img==0), (actual==0)))\n",
    "    \n",
    "    false_positive_sum = np.sum(np.logical_and((res_img>0), (actual==0)))\n",
    "    \n",
    "    false_negative_sum = np.sum(np.logical_and((res_img==0), (actual>0)))\n",
    "\n",
    "    tp += true_positive_sum\n",
    "    tn += true_negative_sum\n",
    "    fp += false_positive_sum\n",
    "    fn += false_negative_sum\n",
    "    \n",
    "    \n",
    "    cv2.imshow(\"image\", res_img)\n",
    "    \n",
    "#     cv2.imshow(\"image\", np.uint8(labels/retval*255))\n",
    "    \n",
    "    last = image\n",
    "    cv2.waitKey(1)\n",
    "\n",
    "cv2.destroyAllWindows()"
   ]
  },
  {
   "cell_type": "code",
   "execution_count": 45,
   "id": "5c7c6d1c",
   "metadata": {},
   "outputs": [
    {
     "data": {
      "text/plain": [
       "0.7204031809342106"
      ]
     },
     "execution_count": 45,
     "metadata": {},
     "output_type": "execute_result"
    }
   ],
   "source": [
    "p = tp/(tp+fp)\n",
    "r = tp/(tp+fn)\n",
    "f1 = (2*p*r)/(p+r)\n",
    "f1"
   ]
  },
  {
   "cell_type": "code",
   "execution_count": 17,
   "id": "0c441715",
   "metadata": {},
   "outputs": [
    {
     "data": {
      "text/plain": [
       "'1099'"
      ]
     },
     "execution_count": 17,
     "metadata": {},
     "output_type": "execute_result"
    }
   ],
   "source": [
    "start\n",
    "end"
   ]
  },
  {
   "cell_type": "code",
   "execution_count": null,
   "id": "f9812865",
   "metadata": {},
   "outputs": [],
   "source": []
  }
 ],
 "metadata": {
  "kernelspec": {
   "display_name": "Python 3 (ipykernel)",
   "language": "python",
   "name": "python3"
  },
  "language_info": {
   "codemirror_mode": {
    "name": "ipython",
    "version": 3
   },
   "file_extension": ".py",
   "mimetype": "text/x-python",
   "name": "python",
   "nbconvert_exporter": "python",
   "pygments_lexer": "ipython3",
   "version": "3.11.5"
  }
 },
 "nbformat": 4,
 "nbformat_minor": 5
}
