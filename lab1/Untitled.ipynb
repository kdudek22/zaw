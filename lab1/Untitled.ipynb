{
 "cells": [
  {
   "cell_type": "code",
   "execution_count": 1,
   "id": "1e7dce52-ed7e-4c66-8e14-6c9c376673b0",
   "metadata": {},
   "outputs": [],
   "source": [
    "import cv2\n",
    "import matplotlib.pyplot as plt\n",
    "\n",
    "\n",
    "def plot(*args):\n",
    "    count = len(args)\n",
    "    fig, ax = plt.subplots(1,count)\n",
    "    fig.set_figheight(5)\n",
    "    fig.set_figwidth(15)\n",
    "    if count==1:\n",
    "        ax.imshow(args[0], cmap=\"gray\")\n",
    "    else:\n",
    "        for i in range(len(ax)):\n",
    "            ax[i].imshow(args[i], cmap=\"gray\")\n",
    "    plt.show()"
   ]
  },
  {
   "cell_type": "code",
   "execution_count": null,
   "id": "04bf1bd3-21b5-42a0-8ec8-af0a774692e9",
   "metadata": {},
   "outputs": [],
   "source": [
    "image = cv2.imread('mandril.jpg')\n",
    "cv2.imshow(\"test\", image)\n",
    "cv2.waitKey(0)\n",
    "cv2.destroyAllWindows()\n",
    "\n",
    "cv2.imwrite(\"test.png\", image)\n",
    "print(image.shape)\n",
    "print(image.size)\n",
    "print(image.dtype)"
   ]
  },
  {
   "cell_type": "code",
   "execution_count": null,
   "id": "3cb1ace9-7c9f-4ff8-a8b5-6c1f401f7814",
   "metadata": {},
   "outputs": [],
   "source": [
    "image = plt.imread(\"lena.png\")\n",
    "plt.figure(1)\n",
    "plt.imshow(image)\n",
    "plt.title(\"Lena\")\n",
    "plt.axis(\"off\")\n",
    "plt.show()"
   ]
  },
  {
   "cell_type": "code",
   "execution_count": null,
   "id": "41b7ab6f-f725-495d-bd87-e74f365b9c8f",
   "metadata": {},
   "outputs": [],
   "source": [
    "plt.imsave(\"new_lena.png\", image)"
   ]
  },
  {
   "cell_type": "code",
   "execution_count": null,
   "id": "b0cfdb31-c633-4f94-8dec-556c33675ac4",
   "metadata": {},
   "outputs": [],
   "source": [
    "x = [100, 150, 200, 250 ]\n",
    "y = [ 50, 100, 150, 200]\n",
    "plt.plot(x, y, \"r.\", markersize=10)"
   ]
  },
  {
   "cell_type": "code",
   "execution_count": null,
   "id": "131b1088-5de8-4eb5-8da3-8c8122e0c7c5",
   "metadata": {},
   "outputs": [],
   "source": [
    "from matplotlib.patches import Rectangle\n",
    "fig, ax = plt.subplots(1)\n",
    "ax.imshow(image)\n",
    "rect = Rectangle((50, 50), 50, 100, fill=True, ec=\"r\")\n",
    "ax.add_patch(rect)\n",
    "plt.show()\n",
    "    "
   ]
  },
  {
   "cell_type": "code",
   "execution_count": null,
   "id": "ee0ac366-1519-407d-a2d0-8001ee604bbc",
   "metadata": {},
   "outputs": [],
   "source": [
    "image = cv2.imread('mandril.jpg')\n",
    "h = image[:,:,0]\n",
    "s = image[:,:,1]\n",
    "v = image[:,:,2]\n",
    "\n",
    "plot(h,s,v)\n",
    "\n",
    "gray_scale = 0.299*h + 0.587*s + 0.114*v\n",
    "\n",
    "plot(gray_scale)"
   ]
  },
  {
   "cell_type": "code",
   "execution_count": null,
   "id": "494c4bae-5d11-458e-963c-52ee9acfc3e1",
   "metadata": {},
   "outputs": [],
   "source": [
    "image = cv2.imread('lena.png')\n",
    "height, width = image.shape[:2]\n",
    "\n",
    "scale = 1.75\n",
    "scaled_image = cv2.resize(image, (int(scale*height), int(scale*width)))\n",
    "\n",
    "cv2.imshow(\"test\", image)\n",
    "cv2.waitKey(0)\n",
    "cv2.destroyAllWindows()\n",
    "cv2.imshow(\"test\", scaled_image)\n",
    "cv2.waitKey(0)\n",
    "cv2.destroyAllWindows()"
   ]
  },
  {
   "cell_type": "code",
   "execution_count": null,
   "id": "0193cd81-b719-4ee7-9894-bb1826a702e3",
   "metadata": {},
   "outputs": [],
   "source": [
    "import numpy as np\n",
    "# image = cv2.imread('lena.png')\n",
    "# cv2.imshow(\"C\", np.uint8(image))"
   ]
  },
  {
   "cell_type": "code",
   "execution_count": null,
   "id": "b2c8e6e2-d834-4091-a832-5b73c649d732",
   "metadata": {},
   "outputs": [],
   "source": [
    "image = cv2.imread('lena.png',cv2.IMREAD_GRAYSCALE)\n",
    "\n",
    "def hist(image):\n",
    "    res = np.zeros((256,1), np.float32)\n",
    "    height, width = image.shape[:2]\n",
    "    for y in range(height):\n",
    "        for x in range(width):\n",
    "            res[image[y, x]]+=1\n",
    "    return res\n",
    "\n",
    "hist = hist(image)\n",
    "\n",
    "plt.plot(hist)"
   ]
  },
  {
   "cell_type": "code",
   "execution_count": null,
   "id": "a46fe458-a3ca-4879-befa-b217f1584b9c",
   "metadata": {},
   "outputs": [],
   "source": [
    "image = cv2.imread('lena.png',cv2.IMREAD_GRAYSCALE)\n",
    "hist = cv2.calcHist([image],[0],None,[256],[0,256])\n",
    "plt.plot(hist)"
   ]
  },
  {
   "cell_type": "code",
   "execution_count": null,
   "id": "1c0a93a9-eb0e-44da-a894-bb64d4e3bd36",
   "metadata": {},
   "outputs": [],
   "source": [
    "image = cv2.imread('mandril.jpg',cv2.IMREAD_GRAYSCALE)\n",
    "eq_hist = cv2.equalizeHist(image)\n",
    "\n",
    "clahe = cv2.createCLAHE(clipLimit=2.0, tileGridSize=(8,8))\n",
    "clahe_hist = clahe.apply(image)\n",
    "\n",
    "plot(image,eq_hist, clahe_hist)"
   ]
  },
  {
   "cell_type": "code",
   "execution_count": null,
   "id": "23b1029d-b10f-487b-869b-058043b8df53",
   "metadata": {},
   "outputs": [],
   "source": [
    "image = cv2.imread('mandril.jpg',cv2.IMREAD_GRAYSCALE)\n",
    "gauss = cv2.GaussianBlur(image,(5,5),5)\n",
    "median = cv2.medianBlur(image,25)\n",
    "\n",
    "sobelx = cv2.Sobel(image, ddepth=cv2.CV_32F,dx=1, dy=0)\n",
    "sobely = cv2.Sobel(image, ddepth=cv2.CV_32F,dx=0, dy=1)\n",
    "\n",
    "laplacian = cv2.Laplacian(gauss, ddepth=cv2.CV_32F, ksize=3)\n",
    "\n",
    "plot(image, gauss, median)\n",
    "plot(sobel, sobely, laplacian)"
   ]
  },
  {
   "cell_type": "code",
   "execution_count": null,
   "id": "dea85791-c130-4377-95ac-5ab240508b18",
   "metadata": {},
   "outputs": [],
   "source": [
    "mandril = cv2.imread('mandril.jpg',cv2.IMREAD_GRAYSCALE)\n",
    "lena = cv2.imread('lena.png',cv2.IMREAD_GRAYSCALE)\n",
    "\n",
    "diff = mandril-lena\n",
    "sum = mandril+lena\n",
    "mul = mandril*lena\n",
    "div = mandril/lena\n",
    "\n",
    "abs_diff = cv2.absdiff(mandril, lena)\n",
    "\n",
    "combination = 0.3*mandril + 0.7*lena\n",
    "\n",
    "plot(sum, diff, mul, div, abs_diff)\n",
    "plot(combination)"
   ]
  },
  {
   "cell_type": "code",
   "execution_count": null,
   "id": "70c473d2-1297-4867-97fb-8455712bacf6",
   "metadata": {},
   "outputs": [],
   "source": []
  }
 ],
 "metadata": {
  "kernelspec": {
   "display_name": "Python 3 (ipykernel)",
   "language": "python",
   "name": "python3"
  },
  "language_info": {
   "codemirror_mode": {
    "name": "ipython",
    "version": 3
   },
   "file_extension": ".py",
   "mimetype": "text/x-python",
   "name": "python",
   "nbconvert_exporter": "python",
   "pygments_lexer": "ipython3",
   "version": "3.8.0"
  }
 },
 "nbformat": 4,
 "nbformat_minor": 5
}
